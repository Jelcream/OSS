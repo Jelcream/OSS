{
 "cells": [
  {
   "cell_type": "code",
   "execution_count": 9,
   "metadata": {},
   "outputs": [],
   "source": [
    "import csv\n",
    "import pandas as pd\n",
    "import numpy as np\n",
    "import matplotlib.pyplot as plt\n",
    "from pandas import DataFrame\n",
    "df1 = pd.read_csv(\"local.csv\",encoding='UTF8')\n",
    "df2 = pd.read_csv(\"모범음식점현황.csv\", engine='python')\n",
    "df2 = df2.dropna(axis=0) # 모든 열에 결측치 있는 행 모두 제거\n",
    "df3 = pd.read_csv(\"착한가격업소1.csv\", engine='python') #필요없는열 삭제된 csv파일"
   ]
  },
  {
   "cell_type": "code",
   "execution_count": 10,
   "metadata": {},
   "outputs": [],
   "source": [
    "df4 = df1.join(df2.set_index(\"전화번호\")[\"주메뉴명\"], on = \"전화번호\") #df1과 df2의 전화번호 열에서의 중복 업소를 찾고, 주메뉴명열만 따로 표시\n",
    "df4 = df4.fillna(0) #공통되지 않은 업소(결측치)는 0으로 채움\n",
    "#df3.to_csv('local_수정.csv', encoding=\"cp949\") "
   ]
  },
  {
   "cell_type": "code",
   "execution_count": 14,
   "metadata": {},
   "outputs": [],
   "source": [
    "df5 = pd.merge(df1, df3, on = \"전화번호\", how = \"left\") \n",
    "df5 = df5.fillna(0) #공통되지 않은 업소(결측치)는 0으로 채움\n",
    "df5.to_csv('착한가격업소수정.csv', encoding=\"cp949\")"
   ]
  }
 ],
 "metadata": {
  "kernelspec": {
   "display_name": "Python 3",
   "language": "python",
   "name": "python3"
  },
  "language_info": {
   "codemirror_mode": {
    "name": "ipython",
    "version": 3
   },
   "file_extension": ".py",
   "mimetype": "text/x-python",
   "name": "python",
   "nbconvert_exporter": "python",
   "pygments_lexer": "ipython3",
   "version": "3.6.5"
  }
 },
 "nbformat": 4,
 "nbformat_minor": 2
}
